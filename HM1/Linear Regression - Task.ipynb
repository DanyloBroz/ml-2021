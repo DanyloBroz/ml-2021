{
 "cells": [
  {
   "cell_type": "code",
   "execution_count": 1,
   "metadata": {},
   "outputs": [],
   "source": [
    "import numpy as np\n",
    "import pandas as pd\n",
    "from sklearn.model_selection import train_test_split\n",
    "from mpl_toolkits.mplot3d import Axes3D\n",
    "import matplotlib.pyplot as plt\n",
    "%matplotlib inline"
   ]
  },
  {
   "cell_type": "code",
   "execution_count": 2,
   "metadata": {},
   "outputs": [],
   "source": [
    "def load_datasets(filename):\n",
    "    '''\n",
    "    Читає вхідний файл\n",
    "    \n",
    "    Параметри:\n",
    "    filename - шлях до вхідного файлу з даними\n",
    "    \n",
    "    Результат:\n",
    "    X - набір характеристик\n",
    "    y - набір передбачуваних величин\n",
    "    '''\n",
    "    \n",
    "    df = pd.read_csv(filename, delimiter=',')\n",
    "    X, y = df[\"A\"], df[\"B\"]\n",
    "    return X, y"
   ]
  },
  {
   "cell_type": "code",
   "execution_count": 3,
   "metadata": {},
   "outputs": [],
   "source": [
    "def split_datasets(X, y, test_size = 0.2):\n",
    "    '''\n",
    "    Розбиває дані на 2 датасети: тренувальний та тестувальний.\n",
    "    \n",
    "    Параметри:\n",
    "    X - набір характеристик\n",
    "    y - набір передбачуваних величин\n",
    "    test_size - розмір тестового датасету\n",
    "    \n",
    "    Результат:\n",
    "    X_train - набір тренувальних прикладів\n",
    "    X_test - набір тестових прикладів\n",
    "    y_train - вектор величин, що передбачаємо для тренувального датасету\n",
    "    y_test - вектор величин, що передбачаємо для тестового датасету\n",
    "    '''\n",
    "    X_train, X_test, y_train, y_test = train_test_split(X, y, test_size=test_size)\n",
    "    return X_train, X_test, y_train, y_test"
   ]
  },
  {
   "cell_type": "code",
   "execution_count": 4,
   "metadata": {},
   "outputs": [],
   "source": [
    "def plot_data(X_train, X_test, y_train, y_test):\n",
    "    '''\n",
    "    Функція для відображення розподілу тренувальних та тестових даних (для однієї змінної)\n",
    "    '''\n",
    "    plt.scatter(X_train, y_train, marker='^', c='green')\n",
    "    plt.scatter(X_test, y_test, marker='o', c='red')\n",
    "    plt.show()"
   ]
  },
  {
   "cell_type": "code",
   "execution_count": 5,
   "metadata": {},
   "outputs": [],
   "source": [
    "def normalize(X):\n",
    "    '''\n",
    "    Нормалізує датасет з характеристиками\n",
    "    \n",
    "    Параметри:\n",
    "    X - набір характеристик\n",
    "    \n",
    "    Результат:\n",
    "    X_new - набір нормалізованих характеристик, (X-mean)/std\n",
    "    mean - вектор середніх значень характеристик\n",
    "    std - вектор стандартних девіацій характеристик\n",
    "    '''\n",
    "    ##################\n",
    "    # Заповнити змінні\n",
    "    ##################\n",
    "    mean = np.mean(X)\n",
    "    std = np.std(X)\n",
    "    X_new = (X - mean) / std\n",
    "    return X_new, mean, std"
   ]
  },
  {
   "cell_type": "code",
   "execution_count": 6,
   "metadata": {},
   "outputs": [],
   "source": [
    "def prepare_X(X):\n",
    "    '''\n",
    "    Формує датасет з рисами, де першою колонкою буде колонка з одиницями.\n",
    "    \n",
    "    Параметри:\n",
    "    X - вхідний датасет з прикладами, по одному в рядок. Кожна риса - відповідна колонка.\n",
    "    \n",
    "    Результат:\n",
    "    X_new - датасет, який складається з колонки одиниць, а решта колонок з X    \n",
    "    '''\n",
    "    m = X.shape[0]\n",
    "    ones = np.ones((m, 1))\n",
    "    X_new = np.array(X[:])\n",
    "    X_new = np.column_stack((ones, X_new))\n",
    "    return X_new"
   ]
  },
  {
   "cell_type": "code",
   "execution_count": 7,
   "metadata": {},
   "outputs": [],
   "source": [
    "def hypothesis(X, theta):\n",
    "    '''\n",
    "    Обчислює значення передбачуваної величини для вхідної матриці X та вектора параметрів thetha.\n",
    "    \n",
    "    Параметри:\n",
    "    X - матриця з рисами. Перша колонка - одиниці. Друга - дані риси.\n",
    "    thetha - вектор параметрів: [thetha0, thetha1]\n",
    "    \n",
    "    Результат:\n",
    "    Матриця значень шуканої величини для прикладів з X\n",
    "    '''\n",
    "    ######################\n",
    "    # Один рядок коду\n",
    "    ######################\n",
    "    h_thetha = np.dot(X, theta)\n",
    "    return h_thetha"
   ]
  },
  {
   "cell_type": "code",
   "execution_count": 8,
   "metadata": {},
   "outputs": [],
   "source": [
    "def cost_function(X, y, theta):\n",
    "    '''\n",
    "    Функція для обчислення штрафної функції J.\n",
    "    \n",
    "    Параметри:\n",
    "    X - тренувальний датасет. 0 - колонка з одиниць, далі - реальні риси\n",
    "    y - точні значення передбачуваної величини\n",
    "    thethe - вектор параметрів регресії\n",
    "    \n",
    "    Результат:\n",
    "    Дійсне число - значення штрафної функції для набору прикладів X та параметрів thetha\n",
    "    '''\n",
    "    m = X.shape[0]\n",
    "    if m == 0:\n",
    "        return None\n",
    "    ######################\n",
    "    # 1-2 рядки коду\n",
    "    ######################\n",
    "    hypo = hypothesis(X, theta)\n",
    "    J = np.sum((hypo - y)**2)/(2*m)\n",
    "    return J"
   ]
  },
  {
   "cell_type": "code",
   "execution_count": 9,
   "metadata": {},
   "outputs": [],
   "source": [
    "def derivative(X, y, theta):\n",
    "    m = X.shape[0]\n",
    "    '''\n",
    "    Функція для обчислення похідних штрафної функції J по thetha.\n",
    "    \n",
    "    Параметри:\n",
    "    X - тренувальний датасет. 0 - колонка з одиниць, далі - реальні риси\n",
    "    y - точні значення передбачуваної величини\n",
    "    thetha - вектор параметрів регресії\n",
    "    \n",
    "    Результат:\n",
    "    Вектор похідних d_thetha\n",
    "    '''\n",
    "    ######################\n",
    "    # 1 рядок коду\n",
    "    ######################\n",
    "    hypo = hypothesis(X, theta)\n",
    "    d_thetha = np.dot(hypo - y, X) / m\n",
    "    return d_thetha"
   ]
  },
  {
   "cell_type": "code",
   "execution_count": 10,
   "metadata": {},
   "outputs": [],
   "source": [
    "def gradient_descent(X, y, theta, alpha, num_iters, print_J = True):\n",
    "    '''\n",
    "    Функція, що реалізує градієнтний спуск для метода лінійної регресії.\n",
    "    \n",
    "    Параметри:\n",
    "    X - тренувальний датасет. 0 - колонка з одиниць, далі - реальні риси\n",
    "    y - точні значення передбачуваної величини\n",
    "    thetha - вектор початкових параметрів регресії\n",
    "    alpha - швидкість навчання\n",
    "    num_iters - кількість ітерацій\n",
    "    print_J - виведення штрафної функції на екран після кожної ітерації\n",
    "    \n",
    "    Результат:\n",
    "    theta - оптимальні значення параметрів регресії\n",
    "    J_history - масив історичних значень штрафної функції після кожної ітерації\n",
    "    \n",
    "    \n",
    "    1) J_i (theta_0, theta_1)\n",
    "    2)  theta_0 = theta_0 - alpha*dtheta_0\n",
    "        theta_1 = theta_1 - alpha*dtheta_1\n",
    "        |J_i-J_{i-1}| < eps || num_iters>10000000000 -> break\n",
    "    3) goto 1\n",
    "    '''\n",
    "    m = X.shape[0]\n",
    "    J_history = []\n",
    "    J = cost_function(X, y, theta)\n",
    "    if print_J == True:\n",
    "        print(J)\n",
    "    J_history.append(J)\n",
    "    for i in range(num_iters):\n",
    "        ######################\n",
    "        # Використати написані вище функції\n",
    "        delta = derivative(X, y, theta)\n",
    "        theta = theta - alpha*delta\n",
    "        J = cost_function(X, y, theta)\n",
    "        ######################\n",
    "        if print_J == True:\n",
    "            print(J)\n",
    "        J_history.append(J)\n",
    "    return theta, J_history"
   ]
  },
  {
   "cell_type": "code",
   "execution_count": 11,
   "metadata": {},
   "outputs": [],
   "source": [
    "def plot_J(X, y):\n",
    "    '''\n",
    "    Функція для виведення графіків штрафної функції для різних значень параметрів на вхідних даних\n",
    "    \n",
    "    Параметри:\n",
    "    X - тренувальний датасет. 0 - колонка з одиниць, далі - реальні риси\n",
    "    y - точні значення передбачуваної величини\n",
    "    '''\n",
    "    theta_0 = np.linspace(-20, 20, 100)\n",
    "    theta_1 = np.linspace(-5, 10, 100)\n",
    "    \n",
    "    J_vals = np.zeros((len(theta_0), len(theta_1)))\n",
    "    for i, t0 in enumerate(theta_0):\n",
    "        for j, t1 in enumerate(theta_1):\n",
    "            theta = np.array([t0, t1])\n",
    "            J_vals[i, j] = cost_function(X, y, theta)\n",
    "    \n",
    "    J_vals = J_vals.T\n",
    "    fig = plt.figure()\n",
    "    ax = fig.gca(projection='3d')\n",
    "    ax.plot_surface(theta_0, theta_1, J_vals, color='b')\n",
    "    plt.xlabel('theta_0')\n",
    "    plt.ylabel('theta_1')\n",
    "    plt.title('Surface plot of the cost function')\n",
    "    plt.show()\n",
    "    plt.contour(theta_0, theta_1, J_vals, np.logspace(-2, 3, 20))\n",
    "    plt.xlabel('theta_0')\n",
    "    plt.ylabel('theta_1')\n",
    "    plt.title('Contour plot of the cost function')\n",
    "    plt.show()"
   ]
  },
  {
   "cell_type": "markdown",
   "metadata": {},
   "source": [
    "## Основний код програми"
   ]
  },
  {
   "cell_type": "markdown",
   "metadata": {},
   "source": [
    "Отримання датасетів та видрук їх параметрів."
   ]
  },
  {
   "cell_type": "code",
   "execution_count": 12,
   "metadata": {},
   "outputs": [
    {
     "name": "stdout",
     "output_type": "stream",
     "text": [
      "Dataset: X=(97,), y=(97,)\n"
     ]
    }
   ],
   "source": [
    "X, y = load_datasets('burrito.csv')\n",
    "print('Dataset: X={}, y={}'.format(X.shape, y.shape))"
   ]
  },
  {
   "cell_type": "markdown",
   "metadata": {},
   "source": [
    "Розбиття датасету на частини:"
   ]
  },
  {
   "cell_type": "code",
   "execution_count": 13,
   "metadata": {},
   "outputs": [
    {
     "name": "stdout",
     "output_type": "stream",
     "text": [
      "Training set: X=(77,), y=(77,)\n",
      "Test set: X=(20,), y=(20,)\n"
     ]
    }
   ],
   "source": [
    "X_train, X_test, y_train, y_test = split_datasets(X, y, 0.2)\n",
    "print('Training set: X={}, y={}'.format(X_train.shape, y_train.shape))\n",
    "print('Test set: X={}, y={}'.format(X_test.shape, y_test.shape))"
   ]
  },
  {
   "cell_type": "markdown",
   "metadata": {},
   "source": [
    "Відображення тренувальних і тестових даних на графіку (для 1 змінної)"
   ]
  },
  {
   "cell_type": "code",
   "execution_count": 14,
   "metadata": {},
   "outputs": [
    {
     "data": {
      "image/png": "[encoded data removed]",
      "text/plain": [
       "<Figure size 432x288 with 1 Axes>"
      ]
     },
     "metadata": {
      "needs_background": "light"
     },
     "output_type": "display_data"
    }
   ],
   "source": [
    "plot_data(X_train, X_test, y_train, y_test)"
   ]
  },
  {
   "cell_type": "markdown",
   "metadata": {},
   "source": [
    "Підготовка тренувальних даних (додавання 0-колонки з одиницями). Ініціалізація параметрів регресії (0, 0): "
   ]
  },
  {
   "cell_type": "code",
   "execution_count": 15,
   "metadata": {},
   "outputs": [],
   "source": [
    "X_train_norm, mean, std = normalize(X_train)\n",
    "X = prepare_X(X_train_norm)\n",
    "theta = np.array([0, 0])"
   ]
  },
  {
   "cell_type": "markdown",
   "metadata": {},
   "source": [
    "Для спрощення записів аліас для вектора передбачуваних значень"
   ]
  },
  {
   "cell_type": "code",
   "execution_count": 16,
   "metadata": {},
   "outputs": [],
   "source": [
    "y = y_train[:]"
   ]
  },
  {
   "cell_type": "markdown",
   "metadata": {},
   "source": [
    "У випадку використання ВСІХ даних для тренування (test_size=0.0), штрафна функція має повернути величину близьку до 32.072."
   ]
  },
  {
   "cell_type": "code",
   "execution_count": 17,
   "metadata": {},
   "outputs": [
    {
     "name": "stdout",
     "output_type": "stream",
     "text": [
      "X: (77, 2)\n",
      "y: (77,)\n",
      "31.00923357737922\n"
     ]
    }
   ],
   "source": [
    "print('X: {}'.format(X.shape))\n",
    "print('y: {}'.format(y.shape))\n",
    "print(cost_function(X, y, theta))"
   ]
  },
  {
   "cell_type": "markdown",
   "metadata": {},
   "source": [
    "Налаштування гіперпараметрів регресії: швидкості навчання та кількості ітерацій."
   ]
  },
  {
   "cell_type": "code",
   "execution_count": 18,
   "metadata": {},
   "outputs": [],
   "source": [
    "alpha = 0.01\n",
    "num_iters = 1500"
   ]
  },
  {
   "cell_type": "markdown",
   "metadata": {},
   "source": [
    "Запуск градієнтного спуску та видрук знайдених оптимальних значень на екран. У випадку використання всіх даних для тренування, результати будуть близькі до Theta 0: -3.63; Theta 1: 1.17"
   ]
  },
  {
   "cell_type": "code",
   "execution_count": 19,
   "metadata": {},
   "outputs": [
    {
     "name": "stdout",
     "output_type": "stream",
     "text": [
      "Theta 0: 5.883665603790048; Theta 1: 4.201378129120276\n"
     ]
    }
   ],
   "source": [
    "new_theta, Js = gradient_descent(X, y, theta, alpha, num_iters, False)\n",
    "print('Theta 0: {}; Theta 1: {}'.format(new_theta[0], new_theta[1]))"
   ]
  },
  {
   "cell_type": "markdown",
   "metadata": {},
   "source": [
    "Відображення штрафної функції як функції від thetha0, thetha1."
   ]
  },
  {
   "cell_type": "code",
   "execution_count": 20,
   "metadata": {},
   "outputs": [
    {
     "data": {
      "image/png": "[encoded data removed]",
      "text/plain": [
       "<Figure size 432x288 with 1 Axes>"
      ]
     },
     "metadata": {
      "needs_background": "light"
     },
     "output_type": "display_data"
    },
    {
     "data": {
      "image/png": "[encoded data removed]",
      "text/plain": [
       "<Figure size 432x288 with 1 Axes>"
      ]
     },
     "metadata": {
      "needs_background": "light"
     },
     "output_type": "display_data"
    }
   ],
   "source": [
    "plot_J(X, y)"
   ]
  },
  {
   "cell_type": "markdown",
   "metadata": {},
   "source": [
    "Відображення знайденої апроксимації разом із тренувальними даними."
   ]
  },
  {
   "cell_type": "code",
   "execution_count": 21,
   "metadata": {},
   "outputs": [
    {
     "data": {
      "image/png": "[encoded data removed]",
      "text/plain": [
       "<Figure size 432x288 with 1 Axes>"
      ]
     },
     "metadata": {
      "needs_background": "light"
     },
     "output_type": "display_data"
    }
   ],
   "source": [
    "x = np.arange(3, 25, 0.1)\n",
    "h = new_theta[0] + new_theta[1]*x\n",
    "\n",
    "plt.plot(x, h)\n",
    "plt.scatter(X_train, y_train, marker='x', c='green')\n",
    "\n",
    "plt.show()"
   ]
  },
  {
   "cell_type": "markdown",
   "metadata": {},
   "source": [
    "Оцінка похибки апроксимації на тестових даних (test_size має бути більше 0.0 та менше 1.0)."
   ]
  },
  {
   "cell_type": "code",
   "execution_count": 22,
   "metadata": {},
   "outputs": [
    {
     "name": "stdout",
     "output_type": "stream",
     "text": [
      "          X  y_actual     y_pred         err\n",
      "13   8.4084   7.22580   6.387142   11.606438\n",
      "16   6.3654   5.30480   3.844897   27.520415\n",
      "62  21.2790  17.92900  22.402912   24.953494\n",
      "76   7.5386   3.88450   5.304790   36.563012\n",
      "64  18.9590  17.05400  19.515977   14.436360\n",
      "8    6.4862   6.59870   3.995217   39.454488\n",
      "39   6.3534   5.49740   3.829965   30.331346\n",
      "55   6.3589  -1.42110   3.836809  369.988643\n",
      "80   5.7292   0.47953   3.053230  536.712974\n",
      "9    5.0546   3.81660   2.213779   41.996052\n",
      "61   5.1793  -0.74279   2.368951  418.926137\n",
      "82   6.3557   0.67861   3.832827  464.805504\n",
      "36   8.0959   4.11640   5.998277   45.716568\n",
      "17   5.1301   0.56077   2.307729  311.528527\n",
      "15   5.3794   3.51290   2.617950   25.476114\n",
      "23   6.3261   5.18750   3.795993   26.824225\n",
      "90   5.7077   1.84510   3.026476   64.027738\n",
      "69  20.3410  20.99200  21.235694    1.160891\n",
      "30   5.2524  -1.22000   2.459915  301.632360\n",
      "63  14.9080  12.05400  14.475040   20.084950\n",
      "3.1786738383423456\n"
     ]
    }
   ],
   "source": [
    "####################\n",
    "# Нормалізувати тестовий датасет, використовуючи mean, std з тренувального\n",
    "####################\n",
    "X_test_proc = (X_test.copy() - mean) / std\n",
    "X_test_proc = prepare_X(X_test_proc)\n",
    "y_test_pred = hypothesis(X_test_proc, new_theta)\n",
    "rel_diff = np.abs(np.divide(y_test - y_test_pred, y_test)) * 100\n",
    "\n",
    "res = pd.DataFrame({'X' : X_test, 'y_actual' : y_test, 'y_pred' : y_test_pred, 'err' : rel_diff})\n",
    "print(res)\n",
    "print(cost_function(X_test_proc, y_test, new_theta))"
   ]
  }
 ],
 "metadata": {
  "anaconda-cloud": {},
  "kernelspec": {
   "display_name": "Python 3",
   "language": "python",
   "name": "python3"
  },
  "language_info": {
   "codemirror_mode": {
    "name": "ipython",
    "version": 3
   },
   "file_extension": ".py",
   "mimetype": "text/x-python",
   "name": "python",
   "nbconvert_exporter": "python",
   "pygments_lexer": "ipython3",
   "version": "3.8.5"
  }
 },
 "nbformat": 4,
 "nbformat_minor": 1
}
